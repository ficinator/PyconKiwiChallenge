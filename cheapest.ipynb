{
 "cells": [
  {
   "cell_type": "code",
   "execution_count": 5,
   "metadata": {
    "collapsed": false
   },
   "outputs": [],
   "source": [
    "#!/usr/bin/env python3\n",
    "\n",
    "import numpy as np\n",
    "# from line_profiler\n",
    "from random import shuffle, randint\n",
    "from heapq import heapify, heappush, heappop\n",
    "\n",
    "from matplotlib import pyplot as plt\n",
    "\n",
    "%matplotlib inline"
   ]
  },
  {
   "cell_type": "code",
   "execution_count": 6,
   "metadata": {
    "collapsed": false
   },
   "outputs": [
    {
     "data": {
      "text/plain": [
       "(array([ 52.,  70.,  68.,  56.,  57.,  66.,  62.,  55.,  55.,  59.]),\n",
       " array([ 1000. ,  1399.7,  1799.4,  2199.1,  2598.8,  2998.5,  3398.2,\n",
       "         3797.9,  4197.6,  4597.3,  4997. ]),\n",
       " <a list of 10 Patch objects>)"
      ]
     },
     "execution_count": 6,
     "metadata": {},
     "output_type": "execute_result"
    },
    {
     "data": {
      "image/png": "[encoded data removed]",
      "text/plain": [
       "<matplotlib.figure.Figure at 0x7fe3dea97e10>"
      ]
     },
     "metadata": {},
     "output_type": "display_data"
    }
   ],
   "source": [
    "MIN_PRICE, MAX_PRICE = 1000, 5000\n",
    "N_FLIGHTS, N_BEST = 600, 50\n",
    "\n",
    "# generate data\n",
    "# dep = list(range(N_FLIGHTS))\n",
    "# shuffle(dep)\n",
    "dep = [randint(MIN_PRICE, MAX_PRICE) for i in range(N_FLIGHTS)]\n",
    "# arr = list(range(N_FLIGHTS))\n",
    "# shuffle(arr)\n",
    "arr = [randint(MIN_PRICE, MAX_PRICE) for i in range(N_FLIGHTS)]\n",
    "\n",
    "plt.subplot(211)\n",
    "plt.hist(dep)\n",
    "plt.subplot(212)\n",
    "plt.hist(arr)"
   ]
  },
  {
   "cell_type": "code",
   "execution_count": 7,
   "metadata": {
    "collapsed": false
   },
   "outputs": [],
   "source": [
    "# @profile\n",
    "def sort(l):\n",
    "    return sorted(l)\n",
    "\n",
    "\n",
    "# @profile\n",
    "def get_comb(dep, arr):\n",
    "    return [(d, a) for d in dep for a in arr]\n",
    "\n",
    "\n",
    "# @profile\n",
    "def get_result(comb, n_best):\n",
    "    return sorted((d + a, d, a) for d, a in comb)[:n_best]\n",
    "\n",
    "dep_sorted = sort(dep)\n",
    "arr_sorted = sort(arr)\n"
   ]
  },
  {
   "cell_type": "code",
   "execution_count": 7,
   "metadata": {
    "collapsed": false
   },
   "outputs": [
    {
     "name": "stdout",
     "output_type": "stream",
     "text": [
      "[(2004, 1004, 1000), (2012, 1004, 1008), (2020, 1004, 1016), (2030, 1004, 1026), (2030, 1030, 1000), (2031, 1031, 1000), (2038, 1030, 1008), (2039, 1031, 1008), (2040, 1040, 1000), (2040, 1040, 1000), (2042, 1004, 1038), (2044, 1004, 1040), (2044, 1044, 1000), (2046, 1030, 1016), (2047, 1031, 1016), (2048, 1040, 1008), (2048, 1040, 1008), (2048, 1048, 1000), (2049, 1004, 1045), (2049, 1004, 1045), (2052, 1044, 1008), (2056, 1030, 1026), (2056, 1040, 1016), (2056, 1040, 1016), (2056, 1048, 1008), (2057, 1031, 1026), (2060, 1044, 1016), (2060, 1060, 1000), (2061, 1061, 1000), (2061, 1061, 1000), (2062, 1004, 1058), (2064, 1048, 1016), (2066, 1040, 1026), (2066, 1040, 1026), (2068, 1030, 1038), (2068, 1060, 1008), (2069, 1031, 1038), (2069, 1061, 1008), (2069, 1061, 1008), (2070, 1030, 1040), (2070, 1044, 1026), (2071, 1031, 1040), (2073, 1004, 1069), (2073, 1073, 1000), (2074, 1048, 1026), (2075, 1030, 1045), (2075, 1030, 1045), (2076, 1031, 1045), (2076, 1031, 1045), (2076, 1060, 1016)]\n"
     ]
    }
   ],
   "source": [
    "comb = get_comb(dep_sorted, arr_sorted)\n",
    "result = get_result(comb, N_BEST)\n",
    "\n",
    "print(result)"
   ]
  },
  {
   "cell_type": "code",
   "execution_count": 8,
   "metadata": {
    "collapsed": false
   },
   "outputs": [
    {
     "name": "stdout",
     "output_type": "stream",
     "text": [
      "[1011 1025 1028 1030 1032 1038 1062 1065 1096 1102 1108 1127 1130 1132 1134\n",
      " 1136 1137 1140 1143 1157 1160 1166 1172 1172 1176 1176 1185 1190 1198 1217\n",
      " 1223 1229 1235 1249 1254 1279 1283 1290 1293 1297 1309 1316 1330 1331 1333\n",
      " 1333 1335 1338 1346 1349]\n",
      "[1000 1022 1026 1039 1046 1063 1069 1079 1085 1097 1114 1122 1124 1127 1137\n",
      " 1139 1146 1151 1160 1168 1174 1178 1189 1197 1215 1232 1237 1238 1248 1251\n",
      " 1252 1257 1268 1271 1276 1276 1276 1278 1281 1282 1283 1284 1286 1289 1300\n",
      " 1314 1333 1344 1361 1377]\n"
     ]
    }
   ],
   "source": [
    "# @profile\n",
    "def sort(l, n_elems=N_BEST):\n",
    "#     return np.sort(l)[:n_elems]\n",
    "    l = np.partition(l, n_elems)[:n_elems]\n",
    "    return np.sort(l)\n",
    "#     return np.partition(l, n_elems)\n",
    "\n",
    "dep_sorted = sort(dep)\n",
    "arr_sorted = sort(arr)\n",
    "\n",
    "print(dep_sorted)\n",
    "print(arr_sorted)"
   ]
  },
  {
   "cell_type": "code",
   "execution_count": 19,
   "metadata": {
    "collapsed": false
   },
   "outputs": [
    {
     "name": "stdout",
     "output_type": "stream",
     "text": [
      "[(2011, 0, 0), (2025, 1, 0), (2028, 2, 0), (2030, 3, 0), (2032, 4, 0), (2033, 0, 1), (2037, 0, 2), (2038, 5, 0), (2047, 1, 1), (2050, 0, 3), (2050, 2, 1), (2051, 1, 2), (2052, 3, 1), (2054, 2, 2), (2054, 4, 1), (2056, 3, 2), (2057, 0, 4), (2058, 4, 2), (2060, 5, 1), (2062, 6, 0), (2064, 1, 3), (2064, 5, 2), (2065, 7, 0), (2067, 2, 3), (2069, 3, 3), (2071, 1, 4), (2071, 4, 3), (2074, 0, 5), (2074, 2, 4), (2076, 3, 4), (2077, 5, 3), (2078, 4, 4), (2080, 0, 6), (2084, 5, 4), (2084, 6, 1), (2087, 7, 1), (2088, 1, 5), (2088, 6, 2), (2090, 0, 7), (2091, 2, 5), (2091, 7, 2), (2093, 3, 5), (2094, 1, 6), (2095, 4, 5), (2096, 0, 8), (2096, 8, 0), (2097, 2, 6), (2099, 3, 6), (2101, 4, 6), (2101, 5, 5)]\n"
     ]
    }
   ],
   "source": [
    "# get best combination using sorted lists and heap\n",
    "heap = [(dep_sorted[0] + arr_sorted[0], 0, 0)]   # initial: best combination from dep and arr\n",
    "visited = set()\n",
    "result = []                                      # the result list\n",
    "while len(result) < N_BEST:\n",
    "    cost, i, j = heappop(heap)                   # get next-best combination\n",
    "    if (i, j) in visited:\n",
    "#         print(i, j)\n",
    "        continue\n",
    "    visited.add((i, j))\n",
    "    result.append((cost, i, j))\n",
    "    # add 'adjacent' combinations to the heap\n",
    "    heappush(heap, (dep_sorted[i + 1] + arr_sorted[j], i + 1, j))\n",
    "    heappush(heap, (dep_sorted[i] + arr_sorted[j + 1], i, j + 1))\n",
    "\n",
    "print(result)"
   ]
  },
  {
   "cell_type": "code",
   "execution_count": null,
   "metadata": {
    "collapsed": true
   },
   "outputs": [],
   "source": [
    "d = 0\n",
    "a = 0\n",
    "result = []\n",
    "while len(result) < N_BEST:\n",
    "    c = dep_sorted[d] + arr_sorted[a]\n",
    "    result.append((c, d, a))\n",
    "    c_d = dep_sorted[d + 1] + arr_sorted[a]\n",
    "    c_a = dep_sorted[d] + arr_sorted[a + 1]\n",
    "    if c_d < c_a:\n",
    "        d++\n",
    "        \n",
    "    "
   ]
  }
 ],
 "metadata": {
  "kernelspec": {
   "display_name": "Python 3",
   "language": "python",
   "name": "python3"
  },
  "language_info": {
   "codemirror_mode": {
    "name": "ipython",
    "version": 3
   },
   "file_extension": ".py",
   "mimetype": "text/x-python",
   "name": "python",
   "nbconvert_exporter": "python",
   "pygments_lexer": "ipython3",
   "version": "3.5.2"
  }
 },
 "nbformat": 4,
 "nbformat_minor": 0
}
